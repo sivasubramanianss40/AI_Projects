{
  "nbformat": 4,
  "nbformat_minor": 0,
  "metadata": {
    "colab": {
      "provenance": [],
      "authorship_tag": "ABX9TyMR4pBc+7cEspb+C2DsJ7eP",
      "include_colab_link": true
    },
    "kernelspec": {
      "name": "python3",
      "display_name": "Python 3"
    },
    "language_info": {
      "name": "python"
    }
  },
  "cells": [
    {
      "cell_type": "markdown",
      "metadata": {
        "id": "view-in-github",
        "colab_type": "text"
      },
      "source": [
        "<a href=\"https://colab.research.google.com/github/sivasubramanianss40/AI_Projects/blob/main/Combine_two_models_.ipynb\" target=\"_parent\"><img src=\"https://colab.research.google.com/assets/colab-badge.svg\" alt=\"Open In Colab\"/></a>"
      ]
    },
    {
      "cell_type": "markdown",
      "source": [
        "### **Combine Two Models**\n"
      ],
      "metadata": {
        "id": "fkPZw5izkyrE"
      }
    },
    {
      "cell_type": "code",
      "source": [
        "import tensorflow as tf\n",
        "from tensorflow.keras import layers, models\n",
        "\n",
        "# Load the pre-trained models from manual locations\n",
        "vit_model_path = \"/path/to/your/vision_transformer_model.h5\"  # Replace with your actual path\n",
        "cnn_model_path = \"/path/to/your/cnn_model.h5\"  # Replace with your actual path\n",
        "\n",
        "# Manually loading models\n",
        "vit_model = tf.keras.models.load_model(vit_model_path)\n",
        "cnn_model = tf.keras.models.load_model(cnn_model_path)\n",
        "\n",
        "# Function to combine the two models (using averaging or concatenation)\n",
        "def combined_model_average(vit_model, cnn_model, input_shape):\n",
        "    inputs = layers.Input(shape=input_shape)\n",
        "    vit_output = vit_model(inputs)\n",
        "    cnn_output = cnn_model(inputs)\n",
        "\n",
        "    # Averaging outputs\n",
        "    combined_output = layers.Average()([vit_output, cnn_output])\n",
        "\n",
        "    return models.Model(inputs, combined_output)\n",
        "\n",
        "def combined_model_concat(vit_model, cnn_model, input_shape):\n",
        "    inputs = layers.Input(shape=input_shape)\n",
        "    vit_output = vit_model(inputs)\n",
        "    cnn_output = cnn_model(inputs)\n",
        "\n",
        "    # Concatenating outputs\n",
        "    combined_output = layers.Concatenate()([vit_output, cnn_output])\n",
        "    combined_output = layers.Dense(4, activation='softmax')(combined_output)  # Final output layer\n",
        "\n",
        "    return models.Model(inputs, combined_output)\n",
        "\n",
        "# Define input shape (ensure it matches the shape both models were trained on)\n",
        "input_shape = (128, 128, 3)  # Example shape, update it according to your model\n",
        "\n",
        "# Combine the models (Choose averaging or concatenation based on your needs)\n",
        "#combined_model = combined_model_average(vit_model, cnn_model, input_shape) # Or\n",
        "combined_model = combined_model_concat(vit_model, cnn_model, input_shape)\n",
        "\n",
        "# Compile and train the combined model\n",
        "combined_model.compile(optimizer='adam', loss='categorical_crossentropy', metrics=['accuracy'])\n",
        "\n",
        "# Example usage: train the combined model\n",
        "# combined_model.fit(train_data, train_labels, epochs=10, validation_data=(val_data, val_labels))\n",
        "\n",
        "# Summary of the combined model\n",
        "combined_model.summary()\n"
      ],
      "metadata": {
        "id": "3Ni4QEUZmctD"
      },
      "execution_count": null,
      "outputs": []
    }
  ]
}